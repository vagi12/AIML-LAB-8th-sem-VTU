{
 "cells": [
  {
   "cell_type": "code",
   "execution_count": 1,
   "metadata": {},
   "outputs": [
    {
     "name": "stdout",
     "output_type": "stream",
     "text": [
      "Path found: ['A', 'E', 'D', 'G']\n"
     ]
    },
    {
     "data": {
      "text/plain": [
       "['A', 'E', 'D', 'G']"
      ]
     },
     "execution_count": 1,
     "metadata": {},
     "output_type": "execute_result"
    }
   ],
   "source": [
    "def aStarAlgo(start_node, stop_node):\n",
    "    open_set = set(start_node)\n",
    "    closed_set = set()\n",
    "    g = {} \n",
    "    parents = {} \n",
    "    g[start_node] = 0 \n",
    "    parents[start_node] = start_node\n",
    "    while len(open_set)>0:\n",
    "        n = None \n",
    "        for v in open_set:\n",
    "            if n == None or g[v]+h(v)<g[n]+h(n):\n",
    "                n = v\n",
    "        if n==stop_node or Graph_nodes[n]==None:\n",
    "            pass\n",
    "        else:\n",
    "            for (m,weight) in neighbors(n): \n",
    "                if m not in open_set and m not in closed_set:\n",
    "                    open_set.add(m)\n",
    "                    parents[m]=n\n",
    "                    g[m]=g[n]+weight \n",
    "                else:\n",
    "                    if g[m]>g[n]+weight: \n",
    "                        g[m]=g[n]+weight \n",
    "                        parents[m]=n \n",
    "                        if m in closed_set:\n",
    "                            closed_set.remove(m)\n",
    "                            open_set.add(m)\n",
    "        if n == None:\n",
    "            print('Path does not exist!')\n",
    "            return None\n",
    "        if n==stop_node:\n",
    "            path=[]\n",
    "            while parents[n]!=n:\n",
    "                path.append(n)\n",
    "                n = parents[n]\n",
    "            path.append(start_node)\n",
    "            path.reverse()\n",
    "            print('Path found: {}'.format(path))\n",
    "            return path \n",
    "        open_set.remove(n)\n",
    "        closed_set.add(n)\n",
    "    print('Path does not exist!')\n",
    "    return None \n",
    "\n",
    "def neighbors(v):\n",
    "    if v in Graph_nodes:\n",
    "        return Graph_nodes[v]\n",
    "    else:\n",
    "        return None \n",
    "\n",
    "def h(n):\n",
    "    dist = {\n",
    "    'A': 11,\n",
    "    'B': 6,\n",
    "    'C': 99,\n",
    "    'D': 1,\n",
    "    'E': 7,\n",
    "    'G': 0\n",
    "    }\n",
    "    return dist[n] \n",
    "\n",
    "Graph_nodes = {\n",
    "'A': [('B', 2), ('E', 3)],\n",
    "'B': [('G', 9)],\n",
    "'E': [('D', 6)],\n",
    "'D': [('G', 1)]\n",
    "}\n",
    "\n",
    "aStarAlgo('A','G')"
   ]
  },
  {
   "cell_type": "code",
   "execution_count": 2,
   "metadata": {},
   "outputs": [
    {
     "name": "stdout",
     "output_type": "stream",
     "text": [
      "Path found: ['A', 'F', 'G', 'I', 'J']\n"
     ]
    },
    {
     "data": {
      "text/plain": [
       "['A', 'F', 'G', 'I', 'J']"
      ]
     },
     "execution_count": 2,
     "metadata": {},
     "output_type": "execute_result"
    }
   ],
   "source": [
    "def h(n):\n",
    "    H_dist = {\n",
    "    'A': 11,\n",
    "    'B': 6,\n",
    "    'C': 5,\n",
    "    'D': 7,\n",
    "    'E': 3,\n",
    "    'F': 6,\n",
    "    'G': 5,\n",
    "    'H': 3,\n",
    "    'I': 1,\n",
    "    'J': 0\n",
    "    }\n",
    "    return H_dist[n]\n",
    "\n",
    "Graph_nodes = {\n",
    "'A': [('B', 6), ('F', 3)],\n",
    "'B': [('A', 6), ('C', 3), ('D', 2)],\n",
    "'C': [('B', 3), ('D', 1), ('E', 5)],\n",
    "'D': [('B', 2), ('C', 1),('E', 8)],\n",
    "'E': [('C', 5), ('D', 8), ('I', 5), ('J', 5),],\n",
    "'F': [('A', 3), ('G', 1), ('H', 7)],\n",
    "'G': [('F', 1), ('I', 3),],\n",
    "'H': [('F', 7), ('I', 2),],\n",
    "'I': [('E', 5), ('G', 3), ('H', 2), ('J', 3),]\n",
    "}\n",
    "aStarAlgo('A','J')"
   ]
  }
 ],
 "metadata": {
  "kernelspec": {
   "display_name": "Python 3.10.7 64-bit",
   "language": "python",
   "name": "python3"
  },
  "language_info": {
   "codemirror_mode": {
    "name": "ipython",
    "version": 3
   },
   "file_extension": ".py",
   "mimetype": "text/x-python",
   "name": "python",
   "nbconvert_exporter": "python",
   "pygments_lexer": "ipython3",
   "version": "3.10.7 (tags/v3.10.7:6cc6b13, Sep  5 2022, 14:08:36) [MSC v.1933 64 bit (AMD64)]"
  },
  "orig_nbformat": 4,
  "vscode": {
   "interpreter": {
    "hash": "1ea0cc30b563f5c58d837ae28ed64a4b3f3ba2a112124d78e6591a0b95c5c59c"
   }
  }
 },
 "nbformat": 4,
 "nbformat_minor": 2
}
