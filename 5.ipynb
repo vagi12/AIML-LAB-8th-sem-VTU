{
 "cells": [
  {
   "cell_type": "code",
   "execution_count": 10,
   "metadata": {},
   "outputs": [
    {
     "name": "stdout",
     "output_type": "stream",
     "text": [
      "Input: \n",
      "[[0.66666667 1.        ]\n",
      " [0.33333333 0.55555556]\n",
      " [1.         0.66666667]]\n",
      "Actual Output: \n",
      "[[0.92]\n",
      " [0.86]\n",
      " [0.89]]\n",
      "Predicted Output: \n",
      " [[0.89465972]\n",
      " [0.87836467]\n",
      " [0.89646171]]\n"
     ]
    }
   ],
   "source": [
    "import numpy as np  \n",
    "X = np.array(([2, 9], [1, 5], [3, 6]), dtype=float) # Features ( Hrs Slept, Hrs Studied)\n",
    "y = np.array(([92], [86], [89]), dtype=float)       # Labels(Marks obtained)\n",
    "X = X/np.amax(X,axis=0) # maximum of X array longitudinally\n",
    "y = y/100\n",
    "\n",
    "def sigmoid (x):\n",
    "    return 1/(1+np.exp(-x))\n",
    "\n",
    "def derivatives_sigmoid(x):\n",
    "    return x * (1 - x)\n",
    "\n",
    "epoch=5000 #Setting training iterations\n",
    "lr=0.1 #Setting learning rate (eta)\n",
    "inputlayer=2 #number of features in data set\n",
    "hiddenlayer=3 #number of hidden layers neurons\n",
    "output=1 #number of neurons at output layer\n",
    "wh=np.random.uniform(size=(inputlayer,hiddenlayer)) # 2x3\n",
    "bh=np.random.uniform(size=(1,hiddenlayer))                  # 1x3\n",
    "wout=np.random.uniform(size=(hiddenlayer,output))   # 1x1\n",
    "bout=np.random.uniform(size=(1,output))\n",
    "\n",
    "for i in range(epoch):\n",
    "    hinp = np.dot(X,wh)+bh                 \n",
    "    hlayer_act = sigmoid(hinp)      \n",
    "    outinp= np.dot(hlayer_act,wout) + bout\n",
    "    output = sigmoid(outinp)\n",
    "    EO = y-output                          \n",
    "    d_output = EO* derivatives_sigmoid(output)                 \n",
    "    EH = d_output.dot(wout.T)               # .T means transpose\n",
    "    d_hiddenlayer = EH * derivatives_sigmoid(hlayer_act)\n",
    "    wout += hlayer_act.T.dot(d_output)*lr  # Dotproduct of nextlayererror and currentlayerop\n",
    "    wh += X.T.dot(d_hiddenlayer) *lr\n",
    "    \n",
    "print(\"Input: \\n\" + str(X)) \n",
    "print(\"Actual Output: \\n\" + str(y))\n",
    "print(\"Predicted Output: \\n\" ,output)"
   ]
  }
 ],
 "metadata": {
  "kernelspec": {
   "display_name": "Python 3.10.7 64-bit",
   "language": "python",
   "name": "python3"
  },
  "language_info": {
   "codemirror_mode": {
    "name": "ipython",
    "version": 3
   },
   "file_extension": ".py",
   "mimetype": "text/x-python",
   "name": "python",
   "nbconvert_exporter": "python",
   "pygments_lexer": "ipython3",
   "version": "3.10.7 (tags/v3.10.7:6cc6b13, Sep  5 2022, 14:08:36) [MSC v.1933 64 bit (AMD64)]"
  },
  "orig_nbformat": 4,
  "vscode": {
   "interpreter": {
    "hash": "1ea0cc30b563f5c58d837ae28ed64a4b3f3ba2a112124d78e6591a0b95c5c59c"
   }
  }
 },
 "nbformat": 4,
 "nbformat_minor": 2
}
