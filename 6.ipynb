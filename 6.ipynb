{
 "cells": [
  {
   "cell_type": "code",
   "execution_count": 1,
   "metadata": {},
   "outputs": [
    {
     "name": "stdout",
     "output_type": "stream",
     "text": [
      "Total instances available : 768\n",
      "Total attributes present : 8\n",
      "First Five instances of dataset:\n",
      "1 : [6.0, 148.0, 72.0, 35.0, 0.0, 33.6, 0.627, 50.0]\n",
      "2 : [1.0, 85.0, 66.0, 29.0, 0.0, 26.6, 0.351, 31.0]\n",
      "3 : [8.0, 183.0, 64.0, 0.0, 0.0, 23.3, 0.672, 32.0]\n",
      "4 : [1.0, 89.0, 66.0, 23.0, 94.0, 28.1, 0.167, 21.0]\n",
      "5 : [0.0, 137.0, 40.0, 35.0, 168.0, 43.1, 2.288, 33.0]\n",
      "\n",
      "Dataset is split into training and testing set.\n",
      "\n",
      "Accuracy of the Naive Baysian Classifier is : 75.0\n"
     ]
    }
   ],
   "source": [
    "import math\n",
    "import statistics as st\n",
    "from sklearn.model_selection import train_test_split\n",
    "import pandas as pd \n",
    "\n",
    "def summarizeByClass(x_tr,y_tr):\n",
    "    separated = {} # Create a dictionary with labels as keys 1 and 0 \n",
    "    for i in range(len(x_train)):\n",
    "        x, y = x_tr[i],y_tr[i]\n",
    "        if (y not in separated):\n",
    "            separated[y] = []\n",
    "        separated[y].append(x) \n",
    "    summary = {} # to store mean and std of +ve and -ve instances\n",
    "    for lbl, subset in separated.items(): \n",
    "        summary[lbl] = [(st.mean(attribute),st.stdev(attribute)) for attribute in zip(*subset)];\n",
    "    return summary\n",
    "\n",
    "def estimateProbability(x, mean, stdev):\n",
    "    exponent = math.exp(-(math.pow(x-mean,2)/(2*math.pow(stdev,2))))\n",
    "    return (1 / (math.sqrt(2*math.pi) * stdev)) * exponent\n",
    "\n",
    "def predict(summaries, test):\n",
    "    bestLabel,bestProb = None, -1\n",
    "    p = {}\n",
    "    for lbl, meanstd in summaries.items():\n",
    "        p[lbl] = 1\n",
    "        for i in range(len(meanstd)):\n",
    "            mean, stdev = meanstd[i] \n",
    "            x = test[i]\n",
    "            p[lbl] *= estimateProbability(x, mean, stdev);\n",
    "        if bestLabel is None or p[lbl] > bestProb:\n",
    "            bestProb = p[lbl]\n",
    "            bestLabel = lbl\n",
    "    return bestLabel\n",
    "\n",
    "def compute_accuracy(summaries, test_x, test_y):\n",
    "    correct = 0\n",
    "    for i in range(len(test_x)):\n",
    "        result = predict(summaries, test_x[i])\n",
    "        if result == test_y[i]:\n",
    "            correct = correct + 1\n",
    "    accuracy = (correct/float(len(test_x))) * 100.0\n",
    "    return accuracy\n",
    "\n",
    "df=pd.read_csv('data6.csv',header=None)\n",
    "cols = [0,1,2,3,4,5,6,7]\n",
    "df_x = df[df.columns[cols]]\n",
    "df_y = df[df.columns[8]]\n",
    "X = df_x.values.tolist()\n",
    "Y = df_y.values.tolist()\n",
    "\n",
    "x_train, x_test, y_train, y_test = train_test_split(X,Y)\n",
    "\n",
    "print('Total instances available :',len(X))\n",
    "print('Total attributes present :',len(X[0]))\n",
    "print(\"First Five instances of dataset:\")\n",
    "\n",
    "for i in range(5):\n",
    "    print(i+1,':',X[i])\n",
    " \n",
    "print('\\nDataset is split into training and testing set.')\n",
    "# print('Training examples = {0} \\nTesting examples = {1}'.format(len(x_train), len(x_test)))\n",
    "summaries = summarizeByClass(x_train,y_train);\n",
    "accuracy = compute_accuracy(summaries,x_test,y_test)\n",
    "print('\\nAccuracy of the Naive Baysian Classifier is :', accuracy)"
   ]
  }
 ],
 "metadata": {
  "kernelspec": {
   "display_name": "Python 3.10.7 64-bit",
   "language": "python",
   "name": "python3"
  },
  "language_info": {
   "codemirror_mode": {
    "name": "ipython",
    "version": 3
   },
   "file_extension": ".py",
   "mimetype": "text/x-python",
   "name": "python",
   "nbconvert_exporter": "python",
   "pygments_lexer": "ipython3",
   "version": "3.10.7 (tags/v3.10.7:6cc6b13, Sep  5 2022, 14:08:36) [MSC v.1933 64 bit (AMD64)]"
  },
  "orig_nbformat": 4,
  "vscode": {
   "interpreter": {
    "hash": "1ea0cc30b563f5c58d837ae28ed64a4b3f3ba2a112124d78e6591a0b95c5c59c"
   }
  }
 },
 "nbformat": 4,
 "nbformat_minor": 2
}
