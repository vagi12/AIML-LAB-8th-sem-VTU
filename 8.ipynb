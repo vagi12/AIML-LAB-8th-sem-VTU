{
 "cells": [
  {
   "cell_type": "code",
   "execution_count": 1,
   "metadata": {},
   "outputs": [
    {
     "name": "stdout",
     "output_type": "stream",
     "text": [
      "Dataset is split into training and testing...\n",
      "Size of trainng data and its label (142, 4) (142,)\n",
      "Size of test data and its label (8, 4) (8,)\n",
      "Label 0 - setosa\n",
      "Label 1 - versicolor\n",
      "Label 2 - virginica\n",
      "Results of Classification using K-nn with K=2 \n",
      " Sample: [6.3 3.3 4.7 1.6]  Actual-label: 1   Predicted-label: 1\n",
      " Sample: [5.  3.2 1.2 0.2]  Actual-label: 0   Predicted-label: 0\n",
      " Sample: [4.5 2.3 1.3 0.3]  Actual-label: 0   Predicted-label: 0\n",
      " Sample: [5.1 3.8 1.9 0.4]  Actual-label: 0   Predicted-label: 0\n",
      " Sample: [5.1 2.5 3.  1.1]  Actual-label: 1   Predicted-label: 1\n",
      " Sample: [5.6 3.  4.5 1.5]  Actual-label: 1   Predicted-label: 1\n",
      " Sample: [5.1 3.3 1.7 0.5]  Actual-label: 0   Predicted-label: 0\n",
      " Sample: [7.4 2.8 6.1 1.9]  Actual-label: 2   Predicted-label: 2\n",
      "Classification Accuracy : 1.0\n",
      "Confusion Matrix\n",
      "[[4 0 0]\n",
      " [0 3 0]\n",
      " [0 0 1]]\n",
      "Accuracy Metrics\n",
      "              precision    recall  f1-score   support\n",
      "\n",
      "           0       1.00      1.00      1.00         4\n",
      "           1       1.00      1.00      1.00         3\n",
      "           2       1.00      1.00      1.00         1\n",
      "\n",
      "    accuracy                           1.00         8\n",
      "   macro avg       1.00      1.00      1.00         8\n",
      "weighted avg       1.00      1.00      1.00         8\n",
      "\n"
     ]
    }
   ],
   "source": [
    "from sklearn.model_selection import train_test_split\n",
    "from sklearn.neighbors import KNeighborsClassifier\n",
    "from sklearn.metrics import classification_report,confusion_matrix\n",
    "from sklearn import datasets\n",
    "\n",
    "iris=datasets.load_iris()\n",
    "\n",
    "x_train, x_test, y_train, y_test = train_test_split(iris.data,iris.target,test_size=0.05)\n",
    "print(\"Dataset is split into training and testing...\")\n",
    "print(\"Size of trainng data and its label\",x_train.shape,y_train.shape)\n",
    "print(\"Size of test data and its label\",x_test.shape, y_test.shape)\n",
    "\n",
    "for i in range(len(iris.target_names)): \n",
    "    print(\"Label\", i , \"-\",str(iris.target_names[i]))\n",
    "                        \n",
    "classifier = KNeighborsClassifier(n_neighbors=2)\n",
    "classifier.fit(x_train, y_train) \n",
    "y_pred=classifier.predict(x_test)\n",
    "\n",
    "print(\"Results of Classification using K-nn with K=2 \")\n",
    "for r in range(0,len(x_test)):  \n",
    "    print(\" Sample:\", str(x_test[r]), \" Actual-label:\", str(y_test[r]), \"  Predicted-label:\", str(y_pred[r]))\n",
    "\n",
    "print(\"Classification Accuracy :\" , classifier.score(x_test,y_test));\n",
    "print('Confusion Matrix')\n",
    "print(confusion_matrix(y_test,y_pred))\n",
    "print('Accuracy Metrics')\n",
    "print(classification_report(y_test,y_pred))"
   ]
  }
 ],
 "metadata": {
  "kernelspec": {
   "display_name": "Python 3.10.7 64-bit",
   "language": "python",
   "name": "python3"
  },
  "language_info": {
   "codemirror_mode": {
    "name": "ipython",
    "version": 3
   },
   "file_extension": ".py",
   "mimetype": "text/x-python",
   "name": "python",
   "nbconvert_exporter": "python",
   "pygments_lexer": "ipython3",
   "version": "3.10.7 (tags/v3.10.7:6cc6b13, Sep  5 2022, 14:08:36) [MSC v.1933 64 bit (AMD64)]"
  },
  "orig_nbformat": 4,
  "vscode": {
   "interpreter": {
    "hash": "1ea0cc30b563f5c58d837ae28ed64a4b3f3ba2a112124d78e6591a0b95c5c59c"
   }
  }
 },
 "nbformat": 4,
 "nbformat_minor": 2
}
