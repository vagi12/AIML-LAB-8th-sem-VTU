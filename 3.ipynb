{
 "cells": [
  {
   "cell_type": "code",
   "execution_count": 2,
   "metadata": {},
   "outputs": [
    {
     "name": "stdout",
     "output_type": "stream",
     "text": [
      "Initial specific hypothesis is =  ['0', '0', '0', '0', '0', '0']\n",
      "Initial general hypothesis is =  [['?', '?', '?', '?', '?', '?']]\n",
      "S Hypothesis after row 1 = ['Sunny', 'Warm', 'Normal', 'Strong', 'Warm', 'Same']\n",
      "G Hypothesis after row 1 = [['?', '?', '?', '?', '?', '?']]\n",
      "S Hypothesis after row 2 = ['Sunny', 'Warm', '?', 'Strong', 'Warm', 'Same']\n",
      "G Hypothesis after row 2 = [['?', '?', '?', '?', '?', '?']]\n",
      "S Hypothesis after row 3 = ['Sunny', 'Warm', '?', 'Strong', 'Warm', 'Same']\n",
      "G Hypothesis after row 3 = [['Sunny', '?', '?', '?', '?', '?'], ['?', 'Warm', '?', '?', '?', '?'], ['?', '?', '?', '?', '?', 'Same']]\n",
      "S Hypothesis after row 4 = ['Sunny', 'Warm', '?', 'Strong', '?', '?']\n",
      "G Hypothesis after row 4 = [['Sunny', '?', '?', '?', '?', '?'], ['?', 'Warm', '?', '?', '?', '?']]\n",
      "Final S Hypothesis ['Sunny', 'Warm', '?', 'Strong', '?', '?']\n",
      "Final G Hypothesis [['Sunny', '?', '?', '?', '?', '?'], ['?', 'Warm', '?', '?', '?', '?']]\n"
     ]
    }
   ],
   "source": [
    "dataarr=[]\n",
    "with open('data3.csv') as f:\n",
    "    for line in f:\n",
    "        dataarr.append(line.strip().split(','))\n",
    "rows=len(dataarr)\n",
    "cols=len(dataarr[0])\n",
    "shypo=['0']*(cols-1)\n",
    "ghypo=[['?']*(cols-1)]   \n",
    "print(\"Initial specific hypothesis is = \",shypo)\n",
    "print(\"Initial general hypothesis is = \",ghypo)   \n",
    "\n",
    "for x in range(1,rows):\n",
    "    lst=dataarr[x]   \n",
    "    if lst[cols-1]==\"1\": \n",
    "        for i in range(0,cols-1):\n",
    "            if shypo[i]==lst[i]:\n",
    "                continue\n",
    "            if shypo[i]!='0':\n",
    "                shypo[i]='?'\n",
    "            else:\n",
    "                shypo[i]=lst[i]\n",
    "            for g in ghypo:\n",
    "                if g[i]!='?' and shypo[i] == '?':\n",
    "                    ghypo.remove(g)\n",
    "    else:\n",
    "        ghypo.clear()\n",
    "        for i in range(0, cols-1):\n",
    "            if lst[i] != shypo[i] and shypo[i]!='?':\n",
    "                temp = ['?']*i + [shypo[i]] + (['?']*(cols-2-i))\n",
    "                if temp not in ghypo: \n",
    "                    ghypo.append(temp)\n",
    "    print(\"S Hypothesis after row\", x, \"=\", shypo)\n",
    "    print(\"G Hypothesis after row\", x, \"=\", ghypo)\n",
    "print(\"Final S Hypothesis\", shypo)\n",
    "print(\"Final G Hypothesis\", ghypo)"
   ]
  }
 ],
 "metadata": {
  "kernelspec": {
   "display_name": "Python 3.10.7 64-bit",
   "language": "python",
   "name": "python3"
  },
  "language_info": {
   "codemirror_mode": {
    "name": "ipython",
    "version": 3
   },
   "file_extension": ".py",
   "mimetype": "text/x-python",
   "name": "python",
   "nbconvert_exporter": "python",
   "pygments_lexer": "ipython3",
   "version": "3.10.7 (tags/v3.10.7:6cc6b13, Sep  5 2022, 14:08:36) [MSC v.1933 64 bit (AMD64)]"
  },
  "orig_nbformat": 4,
  "vscode": {
   "interpreter": {
    "hash": "1ea0cc30b563f5c58d837ae28ed64a4b3f3ba2a112124d78e6591a0b95c5c59c"
   }
  }
 },
 "nbformat": 4,
 "nbformat_minor": 2
}
